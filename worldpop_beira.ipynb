{
  "nbformat": 4,
  "nbformat_minor": 0,
  "metadata": {
    "colab": {
      "name": "worldpop_beira.ipynb",
      "provenance": [],
      "collapsed_sections": [],
      "authorship_tag": "ABX9TyOOGRSUaYROk4F/9Ohk8ivH",
      "include_colab_link": true
    },
    "kernelspec": {
      "name": "python3",
      "display_name": "Python 3"
    }
  },
  "cells": [
    {
      "cell_type": "markdown",
      "metadata": {
        "id": "view-in-github",
        "colab_type": "text"
      },
      "source": [
        "<a href=\"https://colab.research.google.com/github/ccsuehara/beira/blob/main/worldpop_beira.ipynb\" target=\"_parent\"><img src=\"https://colab.research.google.com/assets/colab-badge.svg\" alt=\"Open In Colab\"/></a>"
      ]
    },
    {
      "cell_type": "code",
      "metadata": {
        "id": "6MAnKHQ2Sge6"
      },
      "source": [
        "#Create raster to point shapefile for worldpop\n",
        "from osgeo import gdal\n",
        "import os"
      ],
      "execution_count": null,
      "outputs": []
    },
    {
      "cell_type": "code",
      "metadata": {
        "colab": {
          "base_uri": "https://localhost:8080/"
        },
        "id": "X6_nW__-SjuS",
        "outputId": "1e35c154-a358-4a3f-9914-238e7846cf68"
      },
      "source": [
        "#Reference https://gis.stackexchange.com/questions/268395/converting-raster-tif-to-point-shapefile-using-python\n",
        "filename='/content/Population_beira_2020_worldpop.tif'\n",
        "inDs = gdal.Open(filename)\n",
        "outDs = gdal.Translate('{}.xyz'.format(filename), inDs, format='XYZ', creationOptions=[\"ADD_HEADER_LINE=YES\"])\n",
        "outDs = None\n",
        "try:\n",
        "    os.remove('{}.csv'.format(filename))\n",
        "except OSError:\n",
        "    pass\n",
        "os.rename('{}.xyz'.format(filename), '{}.csv'.format(filename))\n",
        "os.system('ogr2ogr -f \"ESRI Shapefile\" -oo X_POSSIBLE_NAMES=X* -oo Y_POSSIBLE_NAMES=Y* -oo KEEP_GEOM_COLUMNS=NO {0}.shp {0}.csv'.format(filename))"
      ],
      "execution_count": null,
      "outputs": [
        {
          "output_type": "execute_result",
          "data": {
            "text/plain": [
              "0"
            ]
          },
          "metadata": {
            "tags": []
          },
          "execution_count": 3
        }
      ]
    },
    {
      "cell_type": "code",
      "metadata": {
        "id": "__g5BAtXS9Ei"
      },
      "source": [
        ""
      ],
      "execution_count": null,
      "outputs": []
    }
  ]
}