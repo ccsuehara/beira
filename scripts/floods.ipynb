{
 "cells": [
  {
   "cell_type": "markdown",
   "id": "744dedf7",
   "metadata": {},
   "source": [
    "# Beira: Flood model\n",
    "\n",
    "Including the data from floods. "
   ]
  },
  {
   "cell_type": "code",
   "execution_count": 21,
   "id": "601e36f7",
   "metadata": {},
   "outputs": [],
   "source": [
    "# load and filter osm network (step 1)\n",
    "\n",
    "import pandas as pd\n",
    "import time\n",
    "import GOSTnets as gn\n",
    "import networkx as nx\n",
    "import osmnx as ox\n",
    "import numpy as np\n",
    "import geopandas as gpd\n",
    "from geopandas import GeoDataFrame\n",
    "import rasterio as rt\n",
    "import shapely\n",
    "from shapely.geometry import Point, box\n",
    "from shapely.ops import unary_union\n",
    "from shapely.wkt import loads\n",
    "from shapely.geometry import LineString, MultiLineString, Point\n",
    "\n",
    "# Might not use these\n",
    "import fiona\n",
    "import peartree\n",
    "import gdal\n",
    "import subprocess, glob\n",
    "from PIL import Image\n",
    "import numpy \n",
    "from skimage import io\n",
    "from osgeo import gdal\n",
    "from osgeo import osr"
   ]
  },
  {
   "cell_type": "code",
   "execution_count": 20,
   "id": "f18d8249",
   "metadata": {},
   "outputs": [],
   "source": [
    "tiff_path = \"./new_info/\""
   ]
  },
  {
   "cell_type": "code",
   "execution_count": 7,
   "id": "f71b47da",
   "metadata": {},
   "outputs": [
    {
     "data": {
      "text/plain": [
       "(4570, 7512)"
      ]
     },
     "execution_count": 7,
     "metadata": {},
     "output_type": "execute_result"
    }
   ],
   "source": [
    "\n",
    "dem_post = io.imread(tiff_path + \"Beira_DEM_Lidar_Post.tif\")\n",
    "dem_pre = io.imread(tiff_path + \"Beira_DEM_Lidar_Pre-project.tif\")\n",
    "#flood events\n",
    "pre_10yr\n",
    "\n"
   ]
  },
  {
   "cell_type": "code",
   "execution_count": 9,
   "id": "7231a738",
   "metadata": {},
   "outputs": [
    {
     "data": {
      "text/plain": [
       "(4570, 7512)"
      ]
     },
     "execution_count": 9,
     "metadata": {},
     "output_type": "execute_result"
    }
   ],
   "source": [
    "im = Image.open(tiff_path + 'post_10_year.tif') \n",
    "imarray = np.array(im) \n",
    "imarray.shape "
   ]
  },
  {
   "cell_type": "code",
   "execution_count": 13,
   "id": "c8702947",
   "metadata": {},
   "outputs": [],
   "source": []
  },
  {
   "cell_type": "code",
   "execution_count": 11,
   "id": "f5f8f76c",
   "metadata": {},
   "outputs": [],
   "source": []
  },
  {
   "cell_type": "code",
   "execution_count": 15,
   "id": "5bc79192",
   "metadata": {},
   "outputs": [
    {
     "data": {
      "text/plain": [
       "array([[ 6.9030638e+00,  6.9028950e+00,  6.9027247e+00, ...,\n",
       "        -3.4028235e+38, -3.4028235e+38, -3.4028235e+38],\n",
       "       [ 6.9031487e+00,  6.9029803e+00,  6.9028106e+00, ...,\n",
       "        -3.4028235e+38, -3.4028235e+38, -3.4028235e+38],\n",
       "       [ 6.9032331e+00,  6.9030652e+00,  6.9028959e+00, ...,\n",
       "        -3.4028235e+38, -3.4028235e+38, -3.4028235e+38],\n",
       "       ...,\n",
       "       [-3.4028235e+38, -3.4028235e+38, -3.4028235e+38, ...,\n",
       "        -3.4028235e+38, -3.4028235e+38, -3.4028235e+38],\n",
       "       [-3.4028235e+38, -3.4028235e+38, -3.4028235e+38, ...,\n",
       "        -3.4028235e+38, -3.4028235e+38, -3.4028235e+38],\n",
       "       [-3.4028235e+38, -3.4028235e+38, -3.4028235e+38, ...,\n",
       "        -3.4028235e+38, -3.4028235e+38, -3.4028235e+38]], dtype=float32)"
      ]
     },
     "execution_count": 15,
     "metadata": {},
     "output_type": "execute_result"
    }
   ],
   "source": [
    "im2"
   ]
  },
  {
   "cell_type": "code",
   "execution_count": null,
   "id": "cd43c8dc",
   "metadata": {},
   "outputs": [],
   "source": []
  }
 ],
 "metadata": {
  "kernelspec": {
   "display_name": "Python 3",
   "language": "python",
   "name": "python3"
  },
  "language_info": {
   "codemirror_mode": {
    "name": "ipython",
    "version": 3
   },
   "file_extension": ".py",
   "mimetype": "text/x-python",
   "name": "python",
   "nbconvert_exporter": "python",
   "pygments_lexer": "ipython3",
   "version": "3.7.7"
  }
 },
 "nbformat": 4,
 "nbformat_minor": 5
}
